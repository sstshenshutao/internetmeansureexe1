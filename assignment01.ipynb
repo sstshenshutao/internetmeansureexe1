{
 "cells": [
  {
   "cell_type": "markdown",
   "metadata": {
    "collapsed": true,
    "pycharm": {
     "name": "#%% md\n"
    }
   },
   "source": [
    "\n",
    "\n"
   ]
  },
  {
   "cell_type": "markdown",
   "source": [
    "b) Write a program that downloads DNS measurements for Alexa Top 1M and Cisco Umbrella from OpenINTEL3\n",
    "for a specified date. Extend your program so that it untars the files and opens the .avro files within, and inspect\n",
    "the file schema and format. Make your script extract all responses that correspond to A (IPv4 addresses), AAAA\n",
    "(IPv6 addresses), and CNAME resource records for each queried www. subdomain, and store the results (along\n",
    "with the measurement date) in a SQL database; distinguish between the Alexa and Umbrella list accordingly by\n",
    "creating separate tables. Finally, extend your script to repeat this process for measurements of a whole month\n",
    "(specified by the user). (2 points)"
   ],
   "metadata": {
    "collapsed": false,
    "pycharm": {
     "name": "#%% md\n"
    }
   }
  },
  {
   "cell_type": "markdown",
   "source": [
    "solution b):\n",
    "\n",
    "The program is \"question_b.py\". To start it you should provide a multiprocessing environment.\n",
    "Note: it is recommended to start the program with max buffer size 10000\n",
    "\n",
    "An example is: **\"question_b.py alexa 2020 10 --buffer 10000\"**\n",
    "```\n",
    "usage: question_b.py [-h] [--day [day]] [--db [db_name]] [--cache [cache_dir]]\n",
    "                     [--buffer [buffer_max]]\n",
    "                     source year month\n",
    "\n",
    "question_b\n",
    "\n",
    "positional arguments:\n",
    "  source                the source of the data, can be Alexa or Umbrella\n",
    "  year                  the year to query, example: 10\n",
    "  month                 the month to query, example: 2\n",
    "\n",
    "optional arguments:\n",
    "  -h, --help            show this help message and exit\n",
    "  --day [day]           the day to query, if given, only one day will be\n",
    "                        handled\n",
    "  --db [db_name]        the db name (name only), example: \"example.db\"\n",
    "  --cache [cache_dir]   the cache folder, example: data\n",
    "  --buffer [buffer_max]\n",
    "                        the max buffer size: the size of avro entries that are\n",
    "                        buffered in the memory\n",
    "\n",
    "```\n",
    "\n",
    "In order to lead to memory overflow, there is a \"buffer_size\" parameter that\n",
    "can limit the number of the records buffered inside the \"dao\". If the \"buffer_size\" is set to 0,\n",
    "which means the buffer size is not limited, then all of the records of \"avro-file\" will be loaded\n",
    "at once and save to the sql, so the speed will be faster than using a buffer size limitation.\n",
    "\n",
    "The extracting of data from \"avro-file\" is implemented with multiprocessing, each \"avro-file\" will be\n",
    "processed by one thread (process), so the speed can be fast.\n",
    "\n",
    "The downloading can similarly also be implemented with multiprocessing,\n",
    "but downloading too many files and extracting all \"avro-files\" may cost too much storage. In this reason,\n",
    "the software will clean all of the tar- and avro- files immediately after finished the extracting."
   ],
   "metadata": {
    "collapsed": false
   }
  },
  {
   "cell_type": "code",
   "source": [
    "# the program can also be run as a function call\n",
    "from question_b import handle_one_month\n",
    "# note: slow! about 10 min!\n",
    "handle_one_month(2020, 10, db_name=\"example.db\", buffer_max=10000)\n",
    "# will print: \"used time: 878.292760, total: 3682335\"\n"
   ],
   "metadata": {
    "collapsed": false,
    "pycharm": {
     "name": "#%%\n"
    }
   },
   "execution_count": null,
   "outputs": []
  },
  {
   "cell_type": "markdown",
   "source": [],
   "metadata": {
    "collapsed": false,
    "pycharm": {
     "name": "#%% md\n"
    }
   }
  },
  {
   "cell_type": "markdown",
   "source": [
    "d) Write a program that adds columns for the AS numbers of the Autonomous Systems (ASes), which announce\n",
    "the IPv4 and IPv6 addresses of the resolved domains, to each table of your database. To map IP addresses to\n",
    "AS numbers (e.g., with pyasn\n",
    "), use BGP data collected from the Amsterdam Internet Exchange (AMS-IX),\n",
    "which you can download from the Route Views archive\n",
    ". For simplicity, it is sufficient to take one RIB file (e.g.,\n",
    "for the 15th of the month at 12:00 PM) for all IP-ASN-mappings over the whole month. Why do we choose data\n",
    "from AMS-IX rather than from other collectors? (2 points)"
   ],
   "metadata": {
    "collapsed": false,
    "pycharm": {
     "name": "#%% md\n"
    }
   }
  },
  {
   "cell_type": "markdown",
   "source": [
    "solution d):\n",
    "\n",
    "The program is \"question_d.py\". To start it you should provide an existed database.\n",
    "Note: it is recommended to start the program with chunksize 10000\n",
    "\n",
    "An example is: **\"question_d.py alexa 2020 10 --chunksize 10000\"**\n",
    "\n",
    "```\n",
    "usage: question_d.py [-h] [--db [db_name]] [--cache [cache_dir]]\n",
    "                     [--chunksize [chunksize]]\n",
    "                     source year month\n",
    "\n",
    "question_d\n",
    "\n",
    "positional arguments:\n",
    "  source                the source of the data, can be Alexa or Umbrella\n",
    "  year                  the year to query, example: 10\n",
    "  month                 the month to query, example: 2\n",
    "\n",
    "optional arguments:\n",
    "  -h, --help            show this help message and exit\n",
    "  --db [db_name]        the db name (name only), example: \"example.db\"\n",
    "  --cache [cache_dir]   the cache folder, example: data\n",
    "  --chunksize [chunksize]\n",
    "                        the max chunksize to read and modify from sql table\n",
    "\n",
    "```\n",
    "\n",
    "The program will download the RIB archives with the giving year and month\n",
    "and convert it to IPASN databases, use it for looking up the as."
   ],
   "metadata": {
    "collapsed": false,
    "pycharm": {
     "name": "#%% md\n"
    }
   }
  },
  {
   "cell_type": "code",
   "execution_count": null,
   "outputs": [],
   "source": [
    "# the program can also be run as a function call\n",
    "from question_d import Asn\n",
    "asn = Asn(\"example.db\", 'alexa',year=2020, month=10, chunksize=10000)\n",
    "# single process (a little slow)\n",
    "asn.flush_ases()\n",
    "\n",
    "\n"
   ],
   "metadata": {
    "collapsed": false,
    "pycharm": {
     "name": "#%%\n"
    }
   }
  },
  {
   "cell_type": "code",
   "execution_count": null,
   "outputs": [],
   "source": [],
   "metadata": {
    "collapsed": false,
    "pycharm": {
     "name": "#%%"
    }
   }
  }
 ],
 "metadata": {
  "kernelspec": {
   "display_name": "Python 3",
   "language": "python",
   "name": "python3"
  },
  "language_info": {
   "codemirror_mode": {
    "name": "ipython",
    "version": 2
   },
   "file_extension": ".py",
   "mimetype": "text/x-python",
   "name": "python",
   "nbconvert_exporter": "python",
   "pygments_lexer": "ipython2",
   "version": "2.7.6"
  }
 },
 "nbformat": 4,
 "nbformat_minor": 0
}